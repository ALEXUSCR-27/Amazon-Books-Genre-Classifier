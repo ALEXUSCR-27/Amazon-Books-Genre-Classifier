{
 "cells": [
  {
   "cell_type": "markdown",
   "metadata": {},
   "source": [
    "# Importing libraries and extracting data"
   ]
  },
  {
   "cell_type": "code",
   "execution_count": 246,
   "metadata": {},
   "outputs": [],
   "source": [
    "import pandas as pd\n",
    "from sklearn.feature_extraction.text import TfidfVectorizer\n",
    "from sklearn.model_selection import train_test_split\n",
    "from sklearn.metrics import recall_score, f1_score\n",
    "from sklearn.svm import SVC\n",
    "\n",
    "books_df = pd.read_csv('../data/processed/Amazon_Books_Processed.csv', index_col=0)\n",
    "books_df.dropna(inplace=True)"
   ]
  },
  {
   "cell_type": "markdown",
   "metadata": {},
   "source": [
    "# Preparing trainnig and testing data"
   ]
  },
  {
   "cell_type": "code",
   "execution_count": 247,
   "metadata": {},
   "outputs": [],
   "source": [
    "vectorizer = TfidfVectorizer(ngram_range=(1, 3), max_features=5000)\n",
    "X = vectorizer.fit_transform(books_df['Title'])\n",
    "Y = books_df['Main Genre'] + ', ' + books_df['Sub Genre']\n",
    "\n",
    "X_train, X_test, y_train, y_test = train_test_split(X, Y, test_size=0.2)"
   ]
  },
  {
   "cell_type": "markdown",
   "metadata": {},
   "source": [
    "# Trainning and testing SVC model"
   ]
  },
  {
   "cell_type": "code",
   "execution_count": 248,
   "metadata": {},
   "outputs": [
    {
     "name": "stdout",
     "output_type": "stream",
     "text": [
      "Model accuracy: 0.22778143515470706\n",
      "F1 Score: 0.24180629537588444\n",
      "Recall: 0.22778143515470706\n"
     ]
    }
   ],
   "source": [
    "svc_model = SVC(kernel='rbf', C=1, gamma=1)  \n",
    "svc_model.fit(X_train, y_train)\n",
    "\n",
    "accuracy = svc_model.score(X_test, y_test)\n",
    "print(f\"Model accuracy: {accuracy}\")\n",
    "\n",
    "svc_train_pred = svc_model.predict(X_train)\n",
    "svc_test_pred = svc_model.predict(X_test)\n",
    "\n",
    "f1 = f1_score(y_test, svc_test_pred, average='weighted')\n",
    "recall = recall_score(y_test, svc_test_pred, average='weighted')\n",
    "\n",
    "print(f\"F1 Score: {f1}\")\n",
    "print(f\"Recall: {recall}\")"
   ]
  },
  {
   "cell_type": "markdown",
   "metadata": {},
   "source": [
    "# Testing model with input text"
   ]
  },
  {
   "cell_type": "code",
   "execution_count": 250,
   "metadata": {},
   "outputs": [
    {
     "name": "stdout",
     "output_type": "stream",
     "text": [
      "The predicted genre is: Comics & Mangas, Mangas\n"
     ]
    }
   ],
   "source": [
    "\n",
    "title = \"Attack on Titan Vol. 3\"\n",
    "vectorized_title = vectorizer.transform([title])\n",
    "\n",
    "predicted_genre = svc_model.predict(vectorized_title)\n",
    "\n",
    "print(f\"The predicted genre is: {predicted_genre[0]}\")\n"
   ]
  },
  {
   "cell_type": "markdown",
   "metadata": {},
   "source": [
    "# Save trained model and vectorizer"
   ]
  },
  {
   "cell_type": "code",
   "execution_count": 251,
   "metadata": {},
   "outputs": [
    {
     "data": {
      "text/plain": [
       "['../models/vectorizer.pkl']"
      ]
     },
     "execution_count": 251,
     "metadata": {},
     "output_type": "execute_result"
    }
   ],
   "source": [
    "import joblib\n",
    "\n",
    "joblib.dump(svc_model, '../models/svm_model.pkl')\n",
    "joblib.dump(vectorizer, '../models/vectorizer.pkl')"
   ]
  }
 ],
 "metadata": {
  "kernelspec": {
   "display_name": "venv",
   "language": "python",
   "name": "python3"
  },
  "language_info": {
   "codemirror_mode": {
    "name": "ipython",
    "version": 3
   },
   "file_extension": ".py",
   "mimetype": "text/x-python",
   "name": "python",
   "nbconvert_exporter": "python",
   "pygments_lexer": "ipython3",
   "version": "3.12.3"
  }
 },
 "nbformat": 4,
 "nbformat_minor": 2
}
